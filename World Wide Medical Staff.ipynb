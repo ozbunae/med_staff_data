{
 "cells": [
  {
   "cell_type": "code",
   "execution_count": 1,
   "metadata": {
    "ExecuteTime": {
     "end_time": "2021-05-11T17:33:21.123308Z",
     "start_time": "2021-05-11T17:33:20.280039Z"
    }
   },
   "outputs": [],
   "source": [
    "import pandas as pd\n",
    "import numpy as np\n",
    "\n",
    "import matplotlib.pyplot as plt\n",
    "import seaborn as sns"
   ]
  },
  {
   "cell_type": "code",
   "execution_count": 2,
   "metadata": {
    "ExecuteTime": {
     "end_time": "2021-05-11T17:33:52.415557Z",
     "start_time": "2021-05-11T17:33:52.395232Z"
    }
   },
   "outputs": [],
   "source": [
    "df = pd.read_csv('med_staff_data.csv')"
   ]
  },
  {
   "cell_type": "code",
   "execution_count": 3,
   "metadata": {
    "ExecuteTime": {
     "end_time": "2021-05-11T17:33:57.774625Z",
     "start_time": "2021-05-11T17:33:57.764113Z"
    }
   },
   "outputs": [
    {
     "data": {
      "text/html": [
       "<div>\n",
       "<style scoped>\n",
       "    .dataframe tbody tr th:only-of-type {\n",
       "        vertical-align: middle;\n",
       "    }\n",
       "\n",
       "    .dataframe tbody tr th {\n",
       "        vertical-align: top;\n",
       "    }\n",
       "\n",
       "    .dataframe thead th {\n",
       "        text-align: right;\n",
       "    }\n",
       "</style>\n",
       "<table border=\"1\" class=\"dataframe\">\n",
       "  <thead>\n",
       "    <tr style=\"text-align: right;\">\n",
       "      <th></th>\n",
       "      <th>Country</th>\n",
       "      <th>Year</th>\n",
       "      <th>Medical doctors (per 10 000 population)</th>\n",
       "      <th>Medical doctors (number)</th>\n",
       "      <th>Generalist medical practitioners (number)</th>\n",
       "      <th>Specialist medical practitioners (number)</th>\n",
       "      <th>Medical doctors not further defined (number)</th>\n",
       "    </tr>\n",
       "  </thead>\n",
       "  <tbody>\n",
       "    <tr>\n",
       "      <th>0</th>\n",
       "      <td>Afghanistan</td>\n",
       "      <td>2016</td>\n",
       "      <td>2.782</td>\n",
       "      <td>9842.0</td>\n",
       "      <td>NaN</td>\n",
       "      <td>NaN</td>\n",
       "      <td>9842.0</td>\n",
       "    </tr>\n",
       "    <tr>\n",
       "      <th>1</th>\n",
       "      <td>Afghanistan</td>\n",
       "      <td>2015</td>\n",
       "      <td>2.850</td>\n",
       "      <td>9808.0</td>\n",
       "      <td>NaN</td>\n",
       "      <td>NaN</td>\n",
       "      <td>9808.0</td>\n",
       "    </tr>\n",
       "    <tr>\n",
       "      <th>2</th>\n",
       "      <td>Afghanistan</td>\n",
       "      <td>2014</td>\n",
       "      <td>2.983</td>\n",
       "      <td>9954.0</td>\n",
       "      <td>NaN</td>\n",
       "      <td>NaN</td>\n",
       "      <td>9954.0</td>\n",
       "    </tr>\n",
       "    <tr>\n",
       "      <th>3</th>\n",
       "      <td>Afghanistan</td>\n",
       "      <td>2013</td>\n",
       "      <td>2.846</td>\n",
       "      <td>9184.0</td>\n",
       "      <td>NaN</td>\n",
       "      <td>NaN</td>\n",
       "      <td>9184.0</td>\n",
       "    </tr>\n",
       "    <tr>\n",
       "      <th>4</th>\n",
       "      <td>Afghanistan</td>\n",
       "      <td>2012</td>\n",
       "      <td>2.414</td>\n",
       "      <td>7521.0</td>\n",
       "      <td>NaN</td>\n",
       "      <td>NaN</td>\n",
       "      <td>7521.0</td>\n",
       "    </tr>\n",
       "  </tbody>\n",
       "</table>\n",
       "</div>"
      ],
      "text/plain": [
       "       Country  Year  Medical doctors (per 10 000 population)  \\\n",
       "0  Afghanistan  2016                                    2.782   \n",
       "1  Afghanistan  2015                                    2.850   \n",
       "2  Afghanistan  2014                                    2.983   \n",
       "3  Afghanistan  2013                                    2.846   \n",
       "4  Afghanistan  2012                                    2.414   \n",
       "\n",
       "   Medical doctors (number)  Generalist medical practitioners (number)  \\\n",
       "0                    9842.0                                        NaN   \n",
       "1                    9808.0                                        NaN   \n",
       "2                    9954.0                                        NaN   \n",
       "3                    9184.0                                        NaN   \n",
       "4                    7521.0                                        NaN   \n",
       "\n",
       "   Specialist medical practitioners (number)  \\\n",
       "0                                        NaN   \n",
       "1                                        NaN   \n",
       "2                                        NaN   \n",
       "3                                        NaN   \n",
       "4                                        NaN   \n",
       "\n",
       "   Medical doctors not further defined (number)  \n",
       "0                                        9842.0  \n",
       "1                                        9808.0  \n",
       "2                                        9954.0  \n",
       "3                                        9184.0  \n",
       "4                                        7521.0  "
      ]
     },
     "execution_count": 3,
     "metadata": {},
     "output_type": "execute_result"
    }
   ],
   "source": [
    "df.head()"
   ]
  },
  {
   "cell_type": "code",
   "execution_count": 4,
   "metadata": {
    "ExecuteTime": {
     "end_time": "2021-05-11T17:34:07.690728Z",
     "start_time": "2021-05-11T17:34:07.677219Z"
    }
   },
   "outputs": [
    {
     "name": "stdout",
     "output_type": "stream",
     "text": [
      "<class 'pandas.core.frame.DataFrame'>\n",
      "RangeIndex: 2848 entries, 0 to 2847\n",
      "Data columns (total 7 columns):\n",
      " #   Column                                        Non-Null Count  Dtype  \n",
      "---  ------                                        --------------  -----  \n",
      " 0   Country                                       2848 non-null   object \n",
      " 1   Year                                          2848 non-null   int64  \n",
      " 2   Medical doctors (per 10 000 population)       2563 non-null   float64\n",
      " 3   Medical doctors (number)                      2785 non-null   float64\n",
      " 4   Generalist medical practitioners (number)     1127 non-null   float64\n",
      " 5   Specialist medical practitioners (number)     1103 non-null   float64\n",
      " 6   Medical doctors not further defined (number)  2321 non-null   float64\n",
      "dtypes: float64(5), int64(1), object(1)\n",
      "memory usage: 155.9+ KB\n"
     ]
    }
   ],
   "source": [
    "df.info()"
   ]
  },
  {
   "cell_type": "code",
   "execution_count": 5,
   "metadata": {
    "ExecuteTime": {
     "end_time": "2021-05-11T17:34:29.771653Z",
     "start_time": "2021-05-11T17:34:29.745107Z"
    }
   },
   "outputs": [
    {
     "data": {
      "text/html": [
       "<div>\n",
       "<style scoped>\n",
       "    .dataframe tbody tr th:only-of-type {\n",
       "        vertical-align: middle;\n",
       "    }\n",
       "\n",
       "    .dataframe tbody tr th {\n",
       "        vertical-align: top;\n",
       "    }\n",
       "\n",
       "    .dataframe thead th {\n",
       "        text-align: right;\n",
       "    }\n",
       "</style>\n",
       "<table border=\"1\" class=\"dataframe\">\n",
       "  <thead>\n",
       "    <tr style=\"text-align: right;\">\n",
       "      <th></th>\n",
       "      <th>Year</th>\n",
       "      <th>Medical doctors (per 10 000 population)</th>\n",
       "      <th>Medical doctors (number)</th>\n",
       "      <th>Generalist medical practitioners (number)</th>\n",
       "      <th>Specialist medical practitioners (number)</th>\n",
       "      <th>Medical doctors not further defined (number)</th>\n",
       "    </tr>\n",
       "  </thead>\n",
       "  <tbody>\n",
       "    <tr>\n",
       "      <th>count</th>\n",
       "      <td>2848.000000</td>\n",
       "      <td>2563.000000</td>\n",
       "      <td>2.785000e+03</td>\n",
       "      <td>1127.000000</td>\n",
       "      <td>1103.000000</td>\n",
       "      <td>2.321000e+03</td>\n",
       "    </tr>\n",
       "    <tr>\n",
       "      <th>mean</th>\n",
       "      <td>2004.340239</td>\n",
       "      <td>22.401461</td>\n",
       "      <td>7.580689e+04</td>\n",
       "      <td>17431.357587</td>\n",
       "      <td>38829.274705</td>\n",
       "      <td>6.458060e+04</td>\n",
       "    </tr>\n",
       "    <tr>\n",
       "      <th>std</th>\n",
       "      <td>10.371418</td>\n",
       "      <td>16.999494</td>\n",
       "      <td>2.167124e+05</td>\n",
       "      <td>25037.863030</td>\n",
       "      <td>59667.578155</td>\n",
       "      <td>2.212495e+05</td>\n",
       "    </tr>\n",
       "    <tr>\n",
       "      <th>min</th>\n",
       "      <td>1952.000000</td>\n",
       "      <td>0.126000</td>\n",
       "      <td>3.000000e+00</td>\n",
       "      <td>36.000000</td>\n",
       "      <td>19.000000</td>\n",
       "      <td>0.000000e+00</td>\n",
       "    </tr>\n",
       "    <tr>\n",
       "      <th>25%</th>\n",
       "      <td>1999.000000</td>\n",
       "      <td>7.853500</td>\n",
       "      <td>3.046000e+03</td>\n",
       "      <td>1937.000000</td>\n",
       "      <td>4650.500000</td>\n",
       "      <td>9.110000e+02</td>\n",
       "    </tr>\n",
       "    <tr>\n",
       "      <th>50%</th>\n",
       "      <td>2006.000000</td>\n",
       "      <td>21.562000</td>\n",
       "      <td>1.498400e+04</td>\n",
       "      <td>6071.000000</td>\n",
       "      <td>15162.000000</td>\n",
       "      <td>7.781000e+03</td>\n",
       "    </tr>\n",
       "    <tr>\n",
       "      <th>75%</th>\n",
       "      <td>2012.000000</td>\n",
       "      <td>33.076000</td>\n",
       "      <td>4.961200e+04</td>\n",
       "      <td>19656.500000</td>\n",
       "      <td>39691.000000</td>\n",
       "      <td>3.279100e+04</td>\n",
       "    </tr>\n",
       "    <tr>\n",
       "      <th>max</th>\n",
       "      <td>2019.000000</td>\n",
       "      <td>84.199000</td>\n",
       "      <td>2.828999e+06</td>\n",
       "      <td>194265.000000</td>\n",
       "      <td>296177.000000</td>\n",
       "      <td>2.828999e+06</td>\n",
       "    </tr>\n",
       "  </tbody>\n",
       "</table>\n",
       "</div>"
      ],
      "text/plain": [
       "              Year  Medical doctors (per 10 000 population)  \\\n",
       "count  2848.000000                              2563.000000   \n",
       "mean   2004.340239                                22.401461   \n",
       "std      10.371418                                16.999494   \n",
       "min    1952.000000                                 0.126000   \n",
       "25%    1999.000000                                 7.853500   \n",
       "50%    2006.000000                                21.562000   \n",
       "75%    2012.000000                                33.076000   \n",
       "max    2019.000000                                84.199000   \n",
       "\n",
       "       Medical doctors (number)  Generalist medical practitioners (number)  \\\n",
       "count              2.785000e+03                                1127.000000   \n",
       "mean               7.580689e+04                               17431.357587   \n",
       "std                2.167124e+05                               25037.863030   \n",
       "min                3.000000e+00                                  36.000000   \n",
       "25%                3.046000e+03                                1937.000000   \n",
       "50%                1.498400e+04                                6071.000000   \n",
       "75%                4.961200e+04                               19656.500000   \n",
       "max                2.828999e+06                              194265.000000   \n",
       "\n",
       "       Specialist medical practitioners (number)  \\\n",
       "count                                1103.000000   \n",
       "mean                                38829.274705   \n",
       "std                                 59667.578155   \n",
       "min                                    19.000000   \n",
       "25%                                  4650.500000   \n",
       "50%                                 15162.000000   \n",
       "75%                                 39691.000000   \n",
       "max                                296177.000000   \n",
       "\n",
       "       Medical doctors not further defined (number)  \n",
       "count                                  2.321000e+03  \n",
       "mean                                   6.458060e+04  \n",
       "std                                    2.212495e+05  \n",
       "min                                    0.000000e+00  \n",
       "25%                                    9.110000e+02  \n",
       "50%                                    7.781000e+03  \n",
       "75%                                    3.279100e+04  \n",
       "max                                    2.828999e+06  "
      ]
     },
     "execution_count": 5,
     "metadata": {},
     "output_type": "execute_result"
    }
   ],
   "source": [
    "df.describe()"
   ]
  },
  {
   "cell_type": "code",
   "execution_count": 7,
   "metadata": {
    "ExecuteTime": {
     "end_time": "2021-05-11T18:49:41.615655Z",
     "start_time": "2021-05-11T18:49:36.280622Z"
    }
   },
   "outputs": [
    {
     "data": {
      "text/plain": [
       "<AxesSubplot:xlabel='Country', ylabel='Medical doctors (per 10 000 population)'>"
      ]
     },
     "execution_count": 7,
     "metadata": {},
     "output_type": "execute_result"
    },
    {
     "data": {
      "image/png": "[encoded data removed]",
      "text/plain": [
       "<Figure size 432x288 with 1 Axes>"
      ]
     },
     "metadata": {
      "needs_background": "light"
     },
     "output_type": "display_data"
    }
   ],
   "source": [
    "sns.barplot(data=df, x='Country', y='Medical doctors (per 10 000 population)')"
   ]
  },
  {
   "cell_type": "code",
   "execution_count": null,
   "metadata": {},
   "outputs": [],
   "source": []
  }
 ],
 "metadata": {
  "kernelspec": {
   "display_name": "Python 3",
   "language": "python",
   "name": "python3"
  },
  "language_info": {
   "codemirror_mode": {
    "name": "ipython",
    "version": 3
   },
   "file_extension": ".py",
   "mimetype": "text/x-python",
   "name": "python",
   "nbconvert_exporter": "python",
   "pygments_lexer": "ipython3",
   "version": "3.8.5"
  },
  "toc": {
   "base_numbering": 1,
   "nav_menu": {},
   "number_sections": true,
   "sideBar": true,
   "skip_h1_title": false,
   "title_cell": "Table of Contents",
   "title_sidebar": "Contents",
   "toc_cell": false,
   "toc_position": {},
   "toc_section_display": true,
   "toc_window_display": false
  }
 },
 "nbformat": 4,
 "nbformat_minor": 4
}
