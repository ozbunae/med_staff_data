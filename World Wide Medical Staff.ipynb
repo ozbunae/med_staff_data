{
 "cells": [
  {
   "cell_type": "code",
   "execution_count": 1,
   "metadata": {
    "ExecuteTime": {
     "end_time": "2021-05-11T21:37:50.379671Z",
     "start_time": "2021-05-11T21:37:49.584164Z"
    }
   },
   "outputs": [],
   "source": [
    "import pandas as pd\n",
    "import numpy as np\n",
    "\n",
    "import matplotlib.pyplot as plt\n",
    "import seaborn as sns"
   ]
  },
  {
   "cell_type": "code",
   "execution_count": 2,
   "metadata": {
    "ExecuteTime": {
     "end_time": "2021-05-11T21:37:50.395719Z",
     "start_time": "2021-05-11T21:37:50.379671Z"
    }
   },
   "outputs": [],
   "source": [
    "df = pd.read_csv('med_staff_data.csv')"
   ]
  },
  {
   "cell_type": "code",
   "execution_count": 3,
   "metadata": {
    "ExecuteTime": {
     "end_time": "2021-05-11T21:37:50.411734Z",
     "start_time": "2021-05-11T21:37:50.396720Z"
    }
   },
   "outputs": [
    {
     "data": {
      "text/html": [
       "<div>\n",
       "<style scoped>\n",
       "    .dataframe tbody tr th:only-of-type {\n",
       "        vertical-align: middle;\n",
       "    }\n",
       "\n",
       "    .dataframe tbody tr th {\n",
       "        vertical-align: top;\n",
       "    }\n",
       "\n",
       "    .dataframe thead th {\n",
       "        text-align: right;\n",
       "    }\n",
       "</style>\n",
       "<table border=\"1\" class=\"dataframe\">\n",
       "  <thead>\n",
       "    <tr style=\"text-align: right;\">\n",
       "      <th></th>\n",
       "      <th>Country</th>\n",
       "      <th>Year</th>\n",
       "      <th>Medical doctors (per 10 000 population)</th>\n",
       "      <th>Medical doctors (number)</th>\n",
       "      <th>Generalist medical practitioners (number)</th>\n",
       "      <th>Specialist medical practitioners (number)</th>\n",
       "      <th>Medical doctors not further defined (number)</th>\n",
       "    </tr>\n",
       "  </thead>\n",
       "  <tbody>\n",
       "    <tr>\n",
       "      <th>0</th>\n",
       "      <td>Afghanistan</td>\n",
       "      <td>2016</td>\n",
       "      <td>2.782</td>\n",
       "      <td>9842.0</td>\n",
       "      <td>NaN</td>\n",
       "      <td>NaN</td>\n",
       "      <td>9842.0</td>\n",
       "    </tr>\n",
       "    <tr>\n",
       "      <th>1</th>\n",
       "      <td>Afghanistan</td>\n",
       "      <td>2015</td>\n",
       "      <td>2.850</td>\n",
       "      <td>9808.0</td>\n",
       "      <td>NaN</td>\n",
       "      <td>NaN</td>\n",
       "      <td>9808.0</td>\n",
       "    </tr>\n",
       "    <tr>\n",
       "      <th>2</th>\n",
       "      <td>Afghanistan</td>\n",
       "      <td>2014</td>\n",
       "      <td>2.983</td>\n",
       "      <td>9954.0</td>\n",
       "      <td>NaN</td>\n",
       "      <td>NaN</td>\n",
       "      <td>9954.0</td>\n",
       "    </tr>\n",
       "    <tr>\n",
       "      <th>3</th>\n",
       "      <td>Afghanistan</td>\n",
       "      <td>2013</td>\n",
       "      <td>2.846</td>\n",
       "      <td>9184.0</td>\n",
       "      <td>NaN</td>\n",
       "      <td>NaN</td>\n",
       "      <td>9184.0</td>\n",
       "    </tr>\n",
       "    <tr>\n",
       "      <th>4</th>\n",
       "      <td>Afghanistan</td>\n",
       "      <td>2012</td>\n",
       "      <td>2.414</td>\n",
       "      <td>7521.0</td>\n",
       "      <td>NaN</td>\n",
       "      <td>NaN</td>\n",
       "      <td>7521.0</td>\n",
       "    </tr>\n",
       "  </tbody>\n",
       "</table>\n",
       "</div>"
      ],
      "text/plain": [
       "       Country  Year  Medical doctors (per 10 000 population)  \\\n",
       "0  Afghanistan  2016                                    2.782   \n",
       "1  Afghanistan  2015                                    2.850   \n",
       "2  Afghanistan  2014                                    2.983   \n",
       "3  Afghanistan  2013                                    2.846   \n",
       "4  Afghanistan  2012                                    2.414   \n",
       "\n",
       "   Medical doctors (number)  Generalist medical practitioners (number)  \\\n",
       "0                    9842.0                                        NaN   \n",
       "1                    9808.0                                        NaN   \n",
       "2                    9954.0                                        NaN   \n",
       "3                    9184.0                                        NaN   \n",
       "4                    7521.0                                        NaN   \n",
       "\n",
       "   Specialist medical practitioners (number)  \\\n",
       "0                                        NaN   \n",
       "1                                        NaN   \n",
       "2                                        NaN   \n",
       "3                                        NaN   \n",
       "4                                        NaN   \n",
       "\n",
       "   Medical doctors not further defined (number)  \n",
       "0                                        9842.0  \n",
       "1                                        9808.0  \n",
       "2                                        9954.0  \n",
       "3                                        9184.0  \n",
       "4                                        7521.0  "
      ]
     },
     "execution_count": 3,
     "metadata": {},
     "output_type": "execute_result"
    }
   ],
   "source": [
    "df.head()"
   ]
  },
  {
   "cell_type": "code",
   "execution_count": 4,
   "metadata": {
    "ExecuteTime": {
     "end_time": "2021-05-11T21:37:50.427748Z",
     "start_time": "2021-05-11T21:37:50.412735Z"
    }
   },
   "outputs": [
    {
     "data": {
      "text/plain": [
       "Index(['Country', 'Year', 'Medical doctors (per 10 000 population)',\n",
       "       'Medical doctors (number)', 'Generalist medical practitioners (number)',\n",
       "       'Specialist medical practitioners (number)',\n",
       "       'Medical doctors not further defined (number)'],\n",
       "      dtype='object')"
      ]
     },
     "execution_count": 4,
     "metadata": {},
     "output_type": "execute_result"
    }
   ],
   "source": [
    "df.columns.unique()"
   ]
  },
  {
   "cell_type": "code",
   "execution_count": 5,
   "metadata": {
    "ExecuteTime": {
     "end_time": "2021-05-11T21:37:50.443761Z",
     "start_time": "2021-05-11T21:37:50.428749Z"
    }
   },
   "outputs": [],
   "source": [
    "df.columns = ['country', 'year', 'docs_capita', 'no_docs', 'no_GMP', 'no_SMP','no_other']"
   ]
  },
  {
   "cell_type": "code",
   "execution_count": 6,
   "metadata": {
    "ExecuteTime": {
     "end_time": "2021-05-11T21:37:50.459776Z",
     "start_time": "2021-05-11T21:37:50.444762Z"
    }
   },
   "outputs": [
    {
     "data": {
      "text/html": [
       "<div>\n",
       "<style scoped>\n",
       "    .dataframe tbody tr th:only-of-type {\n",
       "        vertical-align: middle;\n",
       "    }\n",
       "\n",
       "    .dataframe tbody tr th {\n",
       "        vertical-align: top;\n",
       "    }\n",
       "\n",
       "    .dataframe thead th {\n",
       "        text-align: right;\n",
       "    }\n",
       "</style>\n",
       "<table border=\"1\" class=\"dataframe\">\n",
       "  <thead>\n",
       "    <tr style=\"text-align: right;\">\n",
       "      <th></th>\n",
       "      <th>country</th>\n",
       "      <th>year</th>\n",
       "      <th>docs_capita</th>\n",
       "      <th>no_docs</th>\n",
       "      <th>no_GMP</th>\n",
       "      <th>no_SMP</th>\n",
       "      <th>no_other</th>\n",
       "    </tr>\n",
       "  </thead>\n",
       "  <tbody>\n",
       "    <tr>\n",
       "      <th>0</th>\n",
       "      <td>Afghanistan</td>\n",
       "      <td>2016</td>\n",
       "      <td>2.782</td>\n",
       "      <td>9842.0</td>\n",
       "      <td>NaN</td>\n",
       "      <td>NaN</td>\n",
       "      <td>9842.0</td>\n",
       "    </tr>\n",
       "    <tr>\n",
       "      <th>1</th>\n",
       "      <td>Afghanistan</td>\n",
       "      <td>2015</td>\n",
       "      <td>2.850</td>\n",
       "      <td>9808.0</td>\n",
       "      <td>NaN</td>\n",
       "      <td>NaN</td>\n",
       "      <td>9808.0</td>\n",
       "    </tr>\n",
       "    <tr>\n",
       "      <th>2</th>\n",
       "      <td>Afghanistan</td>\n",
       "      <td>2014</td>\n",
       "      <td>2.983</td>\n",
       "      <td>9954.0</td>\n",
       "      <td>NaN</td>\n",
       "      <td>NaN</td>\n",
       "      <td>9954.0</td>\n",
       "    </tr>\n",
       "    <tr>\n",
       "      <th>3</th>\n",
       "      <td>Afghanistan</td>\n",
       "      <td>2013</td>\n",
       "      <td>2.846</td>\n",
       "      <td>9184.0</td>\n",
       "      <td>NaN</td>\n",
       "      <td>NaN</td>\n",
       "      <td>9184.0</td>\n",
       "    </tr>\n",
       "    <tr>\n",
       "      <th>4</th>\n",
       "      <td>Afghanistan</td>\n",
       "      <td>2012</td>\n",
       "      <td>2.414</td>\n",
       "      <td>7521.0</td>\n",
       "      <td>NaN</td>\n",
       "      <td>NaN</td>\n",
       "      <td>7521.0</td>\n",
       "    </tr>\n",
       "  </tbody>\n",
       "</table>\n",
       "</div>"
      ],
      "text/plain": [
       "       country  year  docs_capita  no_docs  no_GMP  no_SMP  no_other\n",
       "0  Afghanistan  2016        2.782   9842.0     NaN     NaN    9842.0\n",
       "1  Afghanistan  2015        2.850   9808.0     NaN     NaN    9808.0\n",
       "2  Afghanistan  2014        2.983   9954.0     NaN     NaN    9954.0\n",
       "3  Afghanistan  2013        2.846   9184.0     NaN     NaN    9184.0\n",
       "4  Afghanistan  2012        2.414   7521.0     NaN     NaN    7521.0"
      ]
     },
     "execution_count": 6,
     "metadata": {},
     "output_type": "execute_result"
    }
   ],
   "source": [
    "df.head()"
   ]
  },
  {
   "cell_type": "code",
   "execution_count": 7,
   "metadata": {
    "ExecuteTime": {
     "end_time": "2021-05-11T21:37:50.475791Z",
     "start_time": "2021-05-11T21:37:50.460777Z"
    }
   },
   "outputs": [
    {
     "name": "stdout",
     "output_type": "stream",
     "text": [
      "<class 'pandas.core.frame.DataFrame'>\n",
      "RangeIndex: 2848 entries, 0 to 2847\n",
      "Data columns (total 7 columns):\n",
      " #   Column       Non-Null Count  Dtype  \n",
      "---  ------       --------------  -----  \n",
      " 0   country      2848 non-null   object \n",
      " 1   year         2848 non-null   int64  \n",
      " 2   docs_capita  2563 non-null   float64\n",
      " 3   no_docs      2785 non-null   float64\n",
      " 4   no_GMP       1127 non-null   float64\n",
      " 5   no_SMP       1103 non-null   float64\n",
      " 6   no_other     2321 non-null   float64\n",
      "dtypes: float64(5), int64(1), object(1)\n",
      "memory usage: 155.9+ KB\n"
     ]
    }
   ],
   "source": [
    "df.info()"
   ]
  },
  {
   "cell_type": "code",
   "execution_count": 8,
   "metadata": {
    "ExecuteTime": {
     "end_time": "2021-05-11T21:37:50.507016Z",
     "start_time": "2021-05-11T21:37:50.476792Z"
    }
   },
   "outputs": [
    {
     "data": {
      "text/html": [
       "<div>\n",
       "<style scoped>\n",
       "    .dataframe tbody tr th:only-of-type {\n",
       "        vertical-align: middle;\n",
       "    }\n",
       "\n",
       "    .dataframe tbody tr th {\n",
       "        vertical-align: top;\n",
       "    }\n",
       "\n",
       "    .dataframe thead th {\n",
       "        text-align: right;\n",
       "    }\n",
       "</style>\n",
       "<table border=\"1\" class=\"dataframe\">\n",
       "  <thead>\n",
       "    <tr style=\"text-align: right;\">\n",
       "      <th></th>\n",
       "      <th>year</th>\n",
       "      <th>docs_capita</th>\n",
       "      <th>no_docs</th>\n",
       "      <th>no_GMP</th>\n",
       "      <th>no_SMP</th>\n",
       "      <th>no_other</th>\n",
       "    </tr>\n",
       "  </thead>\n",
       "  <tbody>\n",
       "    <tr>\n",
       "      <th>count</th>\n",
       "      <td>2848.000000</td>\n",
       "      <td>2563.000000</td>\n",
       "      <td>2.785000e+03</td>\n",
       "      <td>1127.000000</td>\n",
       "      <td>1103.000000</td>\n",
       "      <td>2.321000e+03</td>\n",
       "    </tr>\n",
       "    <tr>\n",
       "      <th>mean</th>\n",
       "      <td>2004.340239</td>\n",
       "      <td>22.401461</td>\n",
       "      <td>7.580689e+04</td>\n",
       "      <td>17431.357587</td>\n",
       "      <td>38829.274705</td>\n",
       "      <td>6.458060e+04</td>\n",
       "    </tr>\n",
       "    <tr>\n",
       "      <th>std</th>\n",
       "      <td>10.371418</td>\n",
       "      <td>16.999494</td>\n",
       "      <td>2.167124e+05</td>\n",
       "      <td>25037.863030</td>\n",
       "      <td>59667.578155</td>\n",
       "      <td>2.212495e+05</td>\n",
       "    </tr>\n",
       "    <tr>\n",
       "      <th>min</th>\n",
       "      <td>1952.000000</td>\n",
       "      <td>0.126000</td>\n",
       "      <td>3.000000e+00</td>\n",
       "      <td>36.000000</td>\n",
       "      <td>19.000000</td>\n",
       "      <td>0.000000e+00</td>\n",
       "    </tr>\n",
       "    <tr>\n",
       "      <th>25%</th>\n",
       "      <td>1999.000000</td>\n",
       "      <td>7.853500</td>\n",
       "      <td>3.046000e+03</td>\n",
       "      <td>1937.000000</td>\n",
       "      <td>4650.500000</td>\n",
       "      <td>9.110000e+02</td>\n",
       "    </tr>\n",
       "    <tr>\n",
       "      <th>50%</th>\n",
       "      <td>2006.000000</td>\n",
       "      <td>21.562000</td>\n",
       "      <td>1.498400e+04</td>\n",
       "      <td>6071.000000</td>\n",
       "      <td>15162.000000</td>\n",
       "      <td>7.781000e+03</td>\n",
       "    </tr>\n",
       "    <tr>\n",
       "      <th>75%</th>\n",
       "      <td>2012.000000</td>\n",
       "      <td>33.076000</td>\n",
       "      <td>4.961200e+04</td>\n",
       "      <td>19656.500000</td>\n",
       "      <td>39691.000000</td>\n",
       "      <td>3.279100e+04</td>\n",
       "    </tr>\n",
       "    <tr>\n",
       "      <th>max</th>\n",
       "      <td>2019.000000</td>\n",
       "      <td>84.199000</td>\n",
       "      <td>2.828999e+06</td>\n",
       "      <td>194265.000000</td>\n",
       "      <td>296177.000000</td>\n",
       "      <td>2.828999e+06</td>\n",
       "    </tr>\n",
       "  </tbody>\n",
       "</table>\n",
       "</div>"
      ],
      "text/plain": [
       "              year  docs_capita       no_docs         no_GMP         no_SMP  \\\n",
       "count  2848.000000  2563.000000  2.785000e+03    1127.000000    1103.000000   \n",
       "mean   2004.340239    22.401461  7.580689e+04   17431.357587   38829.274705   \n",
       "std      10.371418    16.999494  2.167124e+05   25037.863030   59667.578155   \n",
       "min    1952.000000     0.126000  3.000000e+00      36.000000      19.000000   \n",
       "25%    1999.000000     7.853500  3.046000e+03    1937.000000    4650.500000   \n",
       "50%    2006.000000    21.562000  1.498400e+04    6071.000000   15162.000000   \n",
       "75%    2012.000000    33.076000  4.961200e+04   19656.500000   39691.000000   \n",
       "max    2019.000000    84.199000  2.828999e+06  194265.000000  296177.000000   \n",
       "\n",
       "           no_other  \n",
       "count  2.321000e+03  \n",
       "mean   6.458060e+04  \n",
       "std    2.212495e+05  \n",
       "min    0.000000e+00  \n",
       "25%    9.110000e+02  \n",
       "50%    7.781000e+03  \n",
       "75%    3.279100e+04  \n",
       "max    2.828999e+06  "
      ]
     },
     "execution_count": 8,
     "metadata": {},
     "output_type": "execute_result"
    }
   ],
   "source": [
    "df.describe()"
   ]
  },
  {
   "cell_type": "code",
   "execution_count": 9,
   "metadata": {
    "ExecuteTime": {
     "end_time": "2021-05-11T21:37:50.523031Z",
     "start_time": "2021-05-11T21:37:50.508017Z"
    }
   },
   "outputs": [
    {
     "name": "stdout",
     "output_type": "stream",
     "text": [
      "(2848, 7)\n",
      "country           0\n",
      "year              0\n",
      "docs_capita     285\n",
      "no_docs          63\n",
      "no_GMP         1721\n",
      "no_SMP         1745\n",
      "no_other        527\n",
      "dtype: int64\n"
     ]
    }
   ],
   "source": [
    "print(df.shape)\n",
    "print(df.isna().sum())"
   ]
  },
  {
   "cell_type": "code",
   "execution_count": 10,
   "metadata": {
    "ExecuteTime": {
     "end_time": "2021-05-11T21:37:50.539044Z",
     "start_time": "2021-05-11T21:37:50.524032Z"
    }
   },
   "outputs": [],
   "source": [
    "df1 = df.drop(columns = ['no_GMP', 'no_SMP'], axis =1)"
   ]
  },
  {
   "cell_type": "code",
   "execution_count": 11,
   "metadata": {
    "ExecuteTime": {
     "end_time": "2021-05-11T21:37:50.555058Z",
     "start_time": "2021-05-11T21:37:50.540045Z"
    }
   },
   "outputs": [
    {
     "data": {
      "text/html": [
       "<div>\n",
       "<style scoped>\n",
       "    .dataframe tbody tr th:only-of-type {\n",
       "        vertical-align: middle;\n",
       "    }\n",
       "\n",
       "    .dataframe tbody tr th {\n",
       "        vertical-align: top;\n",
       "    }\n",
       "\n",
       "    .dataframe thead th {\n",
       "        text-align: right;\n",
       "    }\n",
       "</style>\n",
       "<table border=\"1\" class=\"dataframe\">\n",
       "  <thead>\n",
       "    <tr style=\"text-align: right;\">\n",
       "      <th></th>\n",
       "      <th>country</th>\n",
       "      <th>year</th>\n",
       "      <th>docs_capita</th>\n",
       "      <th>no_docs</th>\n",
       "      <th>no_other</th>\n",
       "    </tr>\n",
       "  </thead>\n",
       "  <tbody>\n",
       "    <tr>\n",
       "      <th>0</th>\n",
       "      <td>Afghanistan</td>\n",
       "      <td>2016</td>\n",
       "      <td>2.782</td>\n",
       "      <td>9842.0</td>\n",
       "      <td>9842.0</td>\n",
       "    </tr>\n",
       "    <tr>\n",
       "      <th>1</th>\n",
       "      <td>Afghanistan</td>\n",
       "      <td>2015</td>\n",
       "      <td>2.850</td>\n",
       "      <td>9808.0</td>\n",
       "      <td>9808.0</td>\n",
       "    </tr>\n",
       "    <tr>\n",
       "      <th>2</th>\n",
       "      <td>Afghanistan</td>\n",
       "      <td>2014</td>\n",
       "      <td>2.983</td>\n",
       "      <td>9954.0</td>\n",
       "      <td>9954.0</td>\n",
       "    </tr>\n",
       "    <tr>\n",
       "      <th>3</th>\n",
       "      <td>Afghanistan</td>\n",
       "      <td>2013</td>\n",
       "      <td>2.846</td>\n",
       "      <td>9184.0</td>\n",
       "      <td>9184.0</td>\n",
       "    </tr>\n",
       "    <tr>\n",
       "      <th>4</th>\n",
       "      <td>Afghanistan</td>\n",
       "      <td>2012</td>\n",
       "      <td>2.414</td>\n",
       "      <td>7521.0</td>\n",
       "      <td>7521.0</td>\n",
       "    </tr>\n",
       "  </tbody>\n",
       "</table>\n",
       "</div>"
      ],
      "text/plain": [
       "       country  year  docs_capita  no_docs  no_other\n",
       "0  Afghanistan  2016        2.782   9842.0    9842.0\n",
       "1  Afghanistan  2015        2.850   9808.0    9808.0\n",
       "2  Afghanistan  2014        2.983   9954.0    9954.0\n",
       "3  Afghanistan  2013        2.846   9184.0    9184.0\n",
       "4  Afghanistan  2012        2.414   7521.0    7521.0"
      ]
     },
     "execution_count": 11,
     "metadata": {},
     "output_type": "execute_result"
    }
   ],
   "source": [
    "df1.head()"
   ]
  },
  {
   "cell_type": "code",
   "execution_count": 12,
   "metadata": {
    "ExecuteTime": {
     "end_time": "2021-05-11T21:37:50.571054Z",
     "start_time": "2021-05-11T21:37:50.556059Z"
    }
   },
   "outputs": [],
   "source": [
    "df1.dropna(inplace=True)"
   ]
  },
  {
   "cell_type": "code",
   "execution_count": 13,
   "metadata": {
    "ExecuteTime": {
     "end_time": "2021-05-11T21:37:50.587075Z",
     "start_time": "2021-05-11T21:37:50.572057Z"
    }
   },
   "outputs": [
    {
     "data": {
      "text/plain": [
       "(2117, 5)"
      ]
     },
     "execution_count": 13,
     "metadata": {},
     "output_type": "execute_result"
    }
   ],
   "source": [
    "df1.shape"
   ]
  },
  {
   "cell_type": "code",
   "execution_count": 14,
   "metadata": {
    "ExecuteTime": {
     "end_time": "2021-05-11T21:37:50.603089Z",
     "start_time": "2021-05-11T21:37:50.588076Z"
    }
   },
   "outputs": [
    {
     "data": {
      "text/plain": [
       "country        0\n",
       "year           0\n",
       "docs_capita    0\n",
       "no_docs        0\n",
       "no_other       0\n",
       "dtype: int64"
      ]
     },
     "execution_count": 14,
     "metadata": {},
     "output_type": "execute_result"
    }
   ],
   "source": [
    "df1.isna().sum()"
   ]
  },
  {
   "cell_type": "code",
   "execution_count": 15,
   "metadata": {
    "ExecuteTime": {
     "end_time": "2021-05-11T21:37:50.779250Z",
     "start_time": "2021-05-11T21:37:50.604090Z"
    }
   },
   "outputs": [
    {
     "data": {
      "text/plain": [
       "<seaborn.axisgrid.FacetGrid at 0x227aa05bd30>"
      ]
     },
     "execution_count": 15,
     "metadata": {},
     "output_type": "execute_result"
    },
    {
     "data": {
      "image/png": "[encoded data removed]",
      "text/plain": [
       "<Figure size 360x360 with 1 Axes>"
      ]
     },
     "metadata": {
      "needs_background": "light"
     },
     "output_type": "display_data"
    }
   ],
   "source": [
    "sns.displot(df1.docs_capita)"
   ]
  },
  {
   "cell_type": "code",
   "execution_count": 16,
   "metadata": {
    "ExecuteTime": {
     "end_time": "2021-05-11T21:37:50.795264Z",
     "start_time": "2021-05-11T21:37:50.779250Z"
    }
   },
   "outputs": [
    {
     "name": "stdout",
     "output_type": "stream",
     "text": [
      "<class 'pandas.core.frame.DataFrame'>\n",
      "Int64Index: 2117 entries, 0 to 2846\n",
      "Data columns (total 5 columns):\n",
      " #   Column       Non-Null Count  Dtype  \n",
      "---  ------       --------------  -----  \n",
      " 0   country      2117 non-null   object \n",
      " 1   year         2117 non-null   int64  \n",
      " 2   docs_capita  2117 non-null   float64\n",
      " 3   no_docs      2117 non-null   float64\n",
      " 4   no_other     2117 non-null   float64\n",
      "dtypes: float64(3), int64(1), object(1)\n",
      "memory usage: 99.2+ KB\n"
     ]
    }
   ],
   "source": [
    "df1.info()"
   ]
  },
  {
   "cell_type": "code",
   "execution_count": 17,
   "metadata": {
    "ExecuteTime": {
     "end_time": "2021-05-11T21:37:50.811279Z",
     "start_time": "2021-05-11T21:37:50.796266Z"
    }
   },
   "outputs": [],
   "source": [
    "new = df1[(df1['docs_capita'] <= 5)] "
   ]
  },
  {
   "cell_type": "code",
   "execution_count": 18,
   "metadata": {
    "ExecuteTime": {
     "end_time": "2021-05-11T21:37:50.827295Z",
     "start_time": "2021-05-11T21:37:50.812280Z"
    }
   },
   "outputs": [
    {
     "data": {
      "text/plain": [
       "(411, 5)"
      ]
     },
     "execution_count": 18,
     "metadata": {},
     "output_type": "execute_result"
    }
   ],
   "source": [
    "new.shape"
   ]
  },
  {
   "cell_type": "code",
   "execution_count": 25,
   "metadata": {
    "ExecuteTime": {
     "end_time": "2021-05-11T21:54:35.948414Z",
     "start_time": "2021-05-11T21:54:35.794154Z"
    }
   },
   "outputs": [
    {
     "data": {
      "text/plain": [
       "<seaborn.axisgrid.FacetGrid at 0x227aa65c6d0>"
      ]
     },
     "execution_count": 25,
     "metadata": {},
     "output_type": "execute_result"
    },
    {
     "data": {
      "image/png": "[encoded data removed]",
      "text/plain": [
       "<Figure size 360x360 with 1 Axes>"
      ]
     },
     "metadata": {
      "needs_background": "light"
     },
     "output_type": "display_data"
    }
   ],
   "source": [
    "sns.displot(new.docs_capita)"
   ]
  },
  {
   "cell_type": "code",
   "execution_count": 23,
   "metadata": {
    "ExecuteTime": {
     "end_time": "2021-05-11T21:52:34.007958Z",
     "start_time": "2021-05-11T21:52:33.992952Z"
    }
   },
   "outputs": [
    {
     "data": {
      "text/html": [
       "<div>\n",
       "<style scoped>\n",
       "    .dataframe tbody tr th:only-of-type {\n",
       "        vertical-align: middle;\n",
       "    }\n",
       "\n",
       "    .dataframe tbody tr th {\n",
       "        vertical-align: top;\n",
       "    }\n",
       "\n",
       "    .dataframe thead th {\n",
       "        text-align: right;\n",
       "    }\n",
       "</style>\n",
       "<table border=\"1\" class=\"dataframe\">\n",
       "  <thead>\n",
       "    <tr style=\"text-align: right;\">\n",
       "      <th></th>\n",
       "      <th>country</th>\n",
       "      <th>year</th>\n",
       "      <th>docs_capita</th>\n",
       "      <th>no_docs</th>\n",
       "      <th>no_other</th>\n",
       "    </tr>\n",
       "  </thead>\n",
       "  <tbody>\n",
       "    <tr>\n",
       "      <th>1786</th>\n",
       "      <td>Nicaragua</td>\n",
       "      <td>2005</td>\n",
       "      <td>4.996</td>\n",
       "      <td>2717.0</td>\n",
       "      <td>2717.0</td>\n",
       "    </tr>\n",
       "    <tr>\n",
       "      <th>195</th>\n",
       "      <td>Bangladesh</td>\n",
       "      <td>2016</td>\n",
       "      <td>4.974</td>\n",
       "      <td>78572.0</td>\n",
       "      <td>78572.0</td>\n",
       "    </tr>\n",
       "    <tr>\n",
       "      <th>1421</th>\n",
       "      <td>Lao People's Democratic Republic</td>\n",
       "      <td>2014</td>\n",
       "      <td>4.949</td>\n",
       "      <td>3286.0</td>\n",
       "      <td>3286.0</td>\n",
       "    </tr>\n",
       "    <tr>\n",
       "      <th>1785</th>\n",
       "      <td>Nicaragua</td>\n",
       "      <td>2006</td>\n",
       "      <td>4.924</td>\n",
       "      <td>2715.0</td>\n",
       "      <td>2715.0</td>\n",
       "    </tr>\n",
       "    <tr>\n",
       "      <th>1076</th>\n",
       "      <td>Guyana</td>\n",
       "      <td>2000</td>\n",
       "      <td>4.902</td>\n",
       "      <td>366.0</td>\n",
       "      <td>366.0</td>\n",
       "    </tr>\n",
       "  </tbody>\n",
       "</table>\n",
       "</div>"
      ],
      "text/plain": [
       "                               country  year  docs_capita  no_docs  no_other\n",
       "1786                         Nicaragua  2005        4.996   2717.0    2717.0\n",
       "195                         Bangladesh  2016        4.974  78572.0   78572.0\n",
       "1421  Lao People's Democratic Republic  2014        4.949   3286.0    3286.0\n",
       "1785                         Nicaragua  2006        4.924   2715.0    2715.0\n",
       "1076                            Guyana  2000        4.902    366.0     366.0"
      ]
     },
     "execution_count": 23,
     "metadata": {},
     "output_type": "execute_result"
    }
   ],
   "source": [
    "new_plot = new.sort_values('docs_capita', ascending=False)\n",
    "new_plot.head()"
   ]
  },
  {
   "cell_type": "code",
   "execution_count": null,
   "metadata": {},
   "outputs": [],
   "source": []
  },
  {
   "cell_type": "code",
   "execution_count": 24,
   "metadata": {
    "ExecuteTime": {
     "end_time": "2021-05-11T21:53:10.128533Z",
     "start_time": "2021-05-11T21:53:07.873642Z"
    }
   },
   "outputs": [
    {
     "data": {
      "image/png": "[encoded data removed]",
      "text/plain": [
       "<Figure size 2160x864 with 1 Axes>"
      ]
     },
     "metadata": {
      "needs_background": "light"
     },
     "output_type": "display_data"
    }
   ],
   "source": [
    "\n",
    "fix, ax = plt.subplots(figsize = (30,12))\n",
    "\n",
    "g = sns.barplot(data=new_plot, x='country', y='docs_capita', ci=False)\n",
    "g.set_xticklabels(g.get_xticklabels(), rotation=45, ha='right', fontsize = 12)\n",
    "\n",
    "plt.tight_layout()\n",
    "plt.show()"
   ]
  },
  {
   "cell_type": "code",
   "execution_count": null,
   "metadata": {},
   "outputs": [],
   "source": []
  }
 ],
 "metadata": {
  "kernelspec": {
   "display_name": "Python 3",
   "language": "python",
   "name": "python3"
  },
  "language_info": {
   "codemirror_mode": {
    "name": "ipython",
    "version": 3
   },
   "file_extension": ".py",
   "mimetype": "text/x-python",
   "name": "python",
   "nbconvert_exporter": "python",
   "pygments_lexer": "ipython3",
   "version": "3.8.5"
  },
  "toc": {
   "base_numbering": 1,
   "nav_menu": {},
   "number_sections": true,
   "sideBar": true,
   "skip_h1_title": false,
   "title_cell": "Table of Contents",
   "title_sidebar": "Contents",
   "toc_cell": false,
   "toc_position": {},
   "toc_section_display": true,
   "toc_window_display": false
  }
 },
 "nbformat": 4,
 "nbformat_minor": 4
}
